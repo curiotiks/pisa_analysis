{
 "cells": [
  {
   "cell_type": "code",
   "execution_count": 33,
   "metadata": {
    "pycharm": {
     "name": "#%%\n"
    }
   },
   "outputs": [],
   "source": [
    "import pandas as pd\n",
    "import matplotlib.pyplot as plt\n",
    "import seaborn as sns"
   ]
  },
  {
   "cell_type": "markdown",
   "metadata": {
    "pycharm": {
     "name": "#%% md\n"
    }
   },
   "source": [
    "## Sources & Cleaning\n",
    "[Link to PISA](https://pisadataexplorer.oecd.org/ide/idepisa/report.aspx?p=1-RMS-1-20123,20033-MATHEFF12-TOTAL-IN3,AUS,AUT,BEL,CAN,CHL,COL,CZE,DNK,EST,FIN,FRA,DEU,GRC,HUN,ISL,IRL,ISR,ITA,JPN,KOR,LVA,LTU,LUX,MEX,NLD,NZL,NOR,POL,PRT,SVK,SVN,ESP,SWE,CHE,TUR,GBR,USA,ALB,QLB,DZA,ARG,QRG,BAK,BLR,BIH,BRA,BRN,QCH,QCI,BGR,TAP,CRI,HRV,QCY,DOM,GEO,HKG,IDN,JOR,KAZ,QAZ,KSV,LBN,MAC,MYS,QYS,MLT,MDA,MNE,MAR,MKD,PAN,PER,PHL,QAT,ROU,RUS,SAU,SRB,SGP,THA,TTO,TUN,UKR,ARE,URY,VNM-MN_MN-J-0_Y-2-37&Lang=1033)"
   ]
  },
  {
   "cell_type": "code",
   "execution_count": 48,
   "metadata": {
    "pycharm": {
     "name": "#%%\n"
    }
   },
   "outputs": [],
   "source": [
    "new_data = pd.read_excel('IDEExcelExport-Jan122023-1011PM.xls', skiprows=13, usecols=\"B:F\", nrows=88,\n",
    "                         sheet_name=None, na_values=[\"†\", \"—\"])\n",
    "df = pd.DataFrame()\n",
    "for sheet_name, df_temp in new_data.items():\n",
    "    sheet_name = sheet_name.replace(\"- Table\", \"\")\n",
    "    \n",
    "    col_dict = {\"Jurisdiction\":     \"Location\",\n",
    "                \"Average\":          sheet_name + \"_avg_2012\",\n",
    "                \"Standard Error\":   sheet_name + \"_se_2012\",\n",
    "                \"Average.1\":        sheet_name + \"_avg_2003\",\n",
    "                \"Standard Error.1\": sheet_name + \"_se_2003\"}\n",
    "\n",
    "    df_temp.rename(columns=col_dict, inplace=True)\n",
    "    df_temp.set_index(\"Location\", inplace=True)\n",
    "    df = df.merge(df_temp, how=\"right\", right_on=\"Location\", left_index = True)"
   ]
  },
  {
   "cell_type": "markdown",
   "metadata": {
    "pycharm": {
     "name": "#%% md\n"
    }
   },
   "source": [
    "## Visualizations\n",
    "\n",
    "1. Mathematic self-efficacy and anxiety"
   ]
  },
  {
   "cell_type": "code",
   "execution_count": 47,
   "metadata": {
    "pycharm": {
     "name": "#%%\n"
    }
   },
   "outputs": [
    {
     "data": {
      "image/png": "[encoded data removed]",
      "text/plain": [
       "<Figure size 432x288 with 1 Axes>"
      ]
     },
     "metadata": {
      "needs_background": "light"
     },
     "output_type": "display_data"
    }
   ],
   "source": [
    "vari = {\n",
    "    'x03':      'self_eff_avg_2003',\n",
    "    'x12':      'self_eff_avg_2012',\n",
    "    'y03':      'anxiety_avg_2003',\n",
    "    'y12':      'anxiety_avg_2012',\n",
    "    'idx':      'International Average (OECD)',\n",
    "    'title':    'Self-efficacy and Anxiety',\n",
    "    'y':        'Anxiety'\n",
    "}\n",
    "\n",
    "def plotyplot(data=df, map_dict=vari):\n",
    "\n",
    "    x = map_dict['x03']\n",
    "    y = map_dict['y03']\n",
    "\n",
    "    sns.scatterplot(data=data, x=data[x], y=data[y], color={'#9B59B6'}, alpha=1)  \\\n",
    "        .set(title=map_dict['title'],\n",
    "             xlabel = \"Self-efficacy\",\n",
    "             ylabel = map_dict['y'])\n",
    "\n",
    "    plt.show()\n",
    "\n",
    "\n",
    "plotyplot(df, vari)\n"
   ]
  },
  {
   "cell_type": "code",
   "execution_count": 23,
   "metadata": {
    "pycharm": {
     "name": "#%%\n"
    }
   },
   "outputs": [
    {
     "ename": "NameError",
     "evalue": "name 'x03' is not defined",
     "output_type": "error",
     "traceback": [
      "\u001b[0;31m---------------------------------------------------------------------------\u001b[0m",
      "\u001b[0;31mNameError\u001b[0m                                 Traceback (most recent call last)",
      "\u001b[0;32m/var/folders/3r/q7k03yqs22q84hfppscp_b6m0000gn/T/ipykernel_4224/106419996.py\u001b[0m in \u001b[0;36m<cell line: 1>\u001b[0;34m()\u001b[0m\n\u001b[0;32m----> 1\u001b[0;31m \u001b[0msns\u001b[0m\u001b[0;34m.\u001b[0m\u001b[0mscatterplot\u001b[0m\u001b[0;34m(\u001b[0m\u001b[0mdata\u001b[0m\u001b[0;34m=\u001b[0m\u001b[0mdf_out\u001b[0m\u001b[0;34m,\u001b[0m \u001b[0mx\u001b[0m\u001b[0;34m=\u001b[0m\u001b[0mx03\u001b[0m\u001b[0;34m,\u001b[0m \u001b[0my\u001b[0m\u001b[0;34m=\u001b[0m\u001b[0my03\u001b[0m\u001b[0;34m,\u001b[0m \u001b[0mcolor\u001b[0m\u001b[0;34m=\u001b[0m\u001b[0;34m{\u001b[0m\u001b[0;34m'#9B59B6'\u001b[0m\u001b[0;34m}\u001b[0m\u001b[0;34m,\u001b[0m \u001b[0malpha\u001b[0m\u001b[0;34m=\u001b[0m\u001b[0;36m1\u001b[0m\u001b[0;34m)\u001b[0m\u001b[0;31m \u001b[0m\u001b[0;31m \u001b[0m\u001b[0;31m \u001b[0m\u001b[0;31m\\\u001b[0m\u001b[0;34m\u001b[0m\u001b[0;34m\u001b[0m\u001b[0m\n\u001b[0m\u001b[1;32m      2\u001b[0m     .set(title=\"[2003] Self-efficacy and Anxiety\",\n\u001b[1;32m      3\u001b[0m         \u001b[0mxlabel\u001b[0m \u001b[0;34m=\u001b[0m \u001b[0;34m\"Mean Self-efficacy\"\u001b[0m\u001b[0;34m,\u001b[0m\u001b[0;34m\u001b[0m\u001b[0;34m\u001b[0m\u001b[0m\n\u001b[1;32m      4\u001b[0m         ylabel = \"Mean Anxiety\") \n\u001b[1;32m      5\u001b[0m \u001b[0mplt\u001b[0m\u001b[0;34m.\u001b[0m\u001b[0mshow\u001b[0m\u001b[0;34m(\u001b[0m\u001b[0;34m)\u001b[0m\u001b[0;34m\u001b[0m\u001b[0;34m\u001b[0m\u001b[0m\n",
      "\u001b[0;31mNameError\u001b[0m: name 'x03' is not defined"
     ]
    }
   ],
   "source": [
    "sns.scatterplot(data=df_out, x=x03, y=y03, color={'#9B59B6'}, alpha=1)   \\\n",
    "    .set(title=\"[2003] Self-efficacy and Anxiety\",\n",
    "        xlabel = \"Mean Self-efficacy\", \n",
    "        ylabel = \"Mean Anxiety\") \n",
    "plt.show()\n",
    "\n",
    "sns.scatterplot(data=df_out, x=x12, y=y12, color={'#2ECC71'})   \\\n",
    "    .set(title=\"[2012] Self-efficacy and Anxiety\",\n",
    "         xlabel = \"Mean Self-efficacy\", \n",
    "         ylabel = \"Mean Anxiety\") \n",
    "\n",
    "plt.show()"
   ]
  },
  {
   "cell_type": "code",
   "execution_count": null,
   "metadata": {
    "pycharm": {
     "name": "#%%\n"
    }
   },
   "outputs": [],
   "source": []
  }
 ],
 "metadata": {
  "kernelspec": {
   "display_name": "Python 3 (ipykernel)",
   "language": "python",
   "name": "python3"
  },
  "language_info": {
   "codemirror_mode": {
    "name": "ipython",
    "version": 3
   },
   "file_extension": ".py",
   "mimetype": "text/x-python",
   "name": "python",
   "nbconvert_exporter": "python",
   "pygments_lexer": "ipython3",
   "version": "3.9.15"
  },
  "vscode": {
   "interpreter": {
    "hash": "7cb1f48d57085a8a79cbe9ab92143efe0ffa18c1f14a470ec9f56888ae690945"
   }
  }
 },
 "nbformat": 4,
 "nbformat_minor": 2
}
